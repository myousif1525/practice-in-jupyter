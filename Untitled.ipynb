{
 "cells": [
  {
   "cell_type": "markdown",
   "id": "fc256536-6dda-40f2-8420-2608e9bd797f",
   "metadata": {},
   "source": [
    "<h1>my jupyter notebook on ibm watson studio"
   ]
  },
  {
   "cell_type": "markdown",
   "id": "92a3c7e2-cada-4b45-b6db-37fbc73db9cd",
   "metadata": {},
   "source": [
    "<b> my name is muhammad yousif and iam student of information technology"
   ]
  },
  {
   "cell_type": "markdown",
   "id": "9e98128b-5d8b-419f-a7cb-055af064f27f",
   "metadata": {},
   "source": [
    "<i>i am interested in data science because i want to become machine learning and data scientist"
   ]
  },
  {
   "cell_type": "markdown",
   "id": "06ec78cd-456a-465f-97c1-a119f52e7ff2",
   "metadata": {},
   "source": [
    "<h3>here is some arthimatic opreation"
   ]
  },
  {
   "cell_type": "code",
   "execution_count": null,
   "id": "ca0c5293-01e2-4d10-a277-c8f3b1eeb72b",
   "metadata": {},
   "outputs": [],
   "source": [
    "''addition\n",
    "a = 2\n",
    "b = 3\n",
    "a = int(a)\n",
    "b = int(b)\n"
   ]
  }
 ],
 "metadata": {
  "kernelspec": {
   "display_name": "Python",
   "language": "python",
   "name": "conda-env-python-py"
  },
  "language_info": {
   "codemirror_mode": {
    "name": "ipython",
    "version": 3
   },
   "file_extension": ".py",
   "mimetype": "text/x-python",
   "name": "python",
   "nbconvert_exporter": "python",
   "pygments_lexer": "ipython3",
   "version": "3.7.12"
  }
 },
 "nbformat": 4,
 "nbformat_minor": 5
}
